{
 "cells": [
  {
   "cell_type": "markdown",
   "metadata": {},
   "source": [
    "Practice 4: Genetic algorithms\n",
    "=================\n",
    "\n",
    "\n",
    "On this practice we will work with a Python implementation of a genetic algorithm. We will also study several particular instances of the Knapsack problem.\n",
    "\n",
    "The practice consists on three parts:\n",
    "\n",
    "* Part I: Implementation of a specific genetic algorithm (the one described in slide 17 of unit 5, using tournement selection) \n",
    "* Part II: Implementation of the representation of the Knapsack problem in the genetic algorithms framework.\n",
    "* Part III: Experimentation using the defined instances.\n"
   ]
  },
  {
   "cell_type": "code",
   "execution_count": 1,
   "metadata": {},
   "outputs": [],
   "source": [
    "# We will need the random module\n",
    "import random"
   ]
  },
  {
   "cell_type": "markdown",
   "metadata": {},
   "source": [
    "Part I: Implementation of a genetic algorithm \n",
    "==============================================\n",
    "\n",
    "-----------\n",
    "Exercise 1\n",
    "-----------\n",
    "\n",
    "Implement the class Problem_Genetic gathering the necessary elements of the representation of optimization problems to be solved by a genetic algorithm. More precisely, these elements are:\n",
    "\n",
    "* genes: list of the genes used in the genotype of the individuals\n",
    "* individuals_length: length of the chromosomes\n",
    "* decode: function that transforms the genotype into the phenotype\n",
    "* fitness: function that evaluates the individuals, to be optimized\n",
    "  \n",
    "\n",
    "All these data and functions will be stored on the corresponding data attributes of the class.\n",
    "\n",
    "Besides, the class should include two methods:\n",
    "* mutation: mutates a chromosome \n",
    "* crossover: given a pair of chromosomes performs crossover on them\n",
    "\n",
    "Implement the mutations and crossover as explained in slides of unit-05.\n",
    "\n",
    "Please notice that in the definition of this class we do not specify whether it is a maximization or a minimization problem. This will be set by means of an input parameter for the genetic algorithm that we are going to implement. \n",
    "\n",
    "\n"
   ]
  },
  {
   "cell_type": "code",
   "execution_count": 2,
   "metadata": {},
   "outputs": [],
   "source": [
    "class Problem_Genetic(object):\n",
    "    \"\"\" Class that will be used to represent problems to be addressed via a\n",
    "    generic genetic algorithm, with the following attributes:\n",
    "    - genes: list of possible genes on a chromosome\n",
    "    - individuals_length: length of the chromosomes\n",
    "    - decode: method that receives a genotype (chromosome) and returns its\n",
    "      phenotype (chromosome \"interpreted\" in terms of the original problem) \n",
    "    - fitness: method that assigns a score to chromosomes (acts over\n",
    "      genotypes)\n",
    "    - mutation: function that implements a mutation over a chromosome\n",
    "    - crossover: function that implements a crossover on two chromosomes\"\"\"\n",
    "\n",
    "    def __init__(self,genes,individuals_length,decode,fitness):\n",
    "        self.genes= genes\n",
    "        self.individuals_length= individuals_length\n",
    "        self.decode= decode\n",
    "        self.fitness= fitness\n",
    "\n",
    "    def mutation(self, c, prob):\n",
    "        cm=list(c) # makes a COPY of c\n",
    "        for i in range(len(cm)):\n",
    "            if random.random() < prob :\n",
    "                cm[i] = random.choice(self.genes)\n",
    "        return cm\n",
    "\n",
    "    def crossover(self,c1,c2):\n",
    "        pos=random.randrange(1,self.individuals_length-1)\n",
    "        cr1= c1[:pos] + c2[pos:] \n",
    "        cr2= c2[:pos] + c1[pos:] \n",
    "        return [cr1,cr2]"
   ]
  },
  {
   "cell_type": "markdown",
   "metadata": {},
   "source": [
    "-----------\n",
    "Exercise 2\n",
    "-----------\n",
    "\n",
    "Define a variable sq_gen, storing an instance of the previous class, corresponding to the problem of optimizing (maximize or minimize) the square function over the set of natural numbers smaller than 2^{10}.\n",
    "\n",
    "The following function that interprets a list of 0s and 1s as a natural number will be useful:  "
   ]
  },
  {
   "cell_type": "code",
   "execution_count": 3,
   "metadata": {},
   "outputs": [],
   "source": [
    "def binary_to_decimal(x):\n",
    "    return sum(b*(2**i) for (i,b) in enumerate(x)) "
   ]
  },
  {
   "cell_type": "code",
   "execution_count": 4,
   "metadata": {},
   "outputs": [],
   "source": [
    "def fitness_for_sq_gen(x):\n",
    "    return (binary_to_decimal(x))**2\n",
    "\n",
    "# sq_gen = Problem_Genetic([0,1],10,binary_to_decimal,fitness_for_sq_gen)"
   ]
  },
  {
   "cell_type": "markdown",
   "metadata": {},
   "source": [
    "After defining sq_gen, test some of the functions defined in the previous class, on this particular instance. For example:"
   ]
  },
  {
   "cell_type": "code",
   "execution_count": 5,
   "metadata": {},
   "outputs": [],
   "source": [
    "# >>> sq_gen.decode([1,0,0,0,1,1,0,0,1,0,1])\n",
    "# 1329\n",
    "# sq_gen.decode([1,0,0,0,1,1,0,0,1,0,1])\n",
    "\n",
    "# >>> sq_gen.fitness([1,0,0,0,1,1,0,0,1,0,1])\n",
    "# 1766241\n",
    "\n",
    "# >>> sq_gen.mutation([1,0,0,0,1,1,0,0,1,0,1],0.1)\n",
    "# [1, 0, 0, 0, 1, 1, 0, 0, 1, 0, 1]\n",
    "\n",
    "# >>> sq_gen.mutation([1,0,0,0,1,1,0,0,1,0,1],0.8)\n",
    "# [0, 0, 0, 0, 1, 1, 0, 0, 1, 0, 1]\n",
    "\n",
    "# >>> sq_gen.crossover([1,0,0,0,1,1,0,0,1,0,1],[0,1,1,0,1,0,0,1,1,1])\n",
    "# [[1, 0, 0, 0, 1, 0, 0, 1, 1, 1], [0, 1, 1, 0, 1, 1, 0, 0, 1, 0, 1]]\n",
    "\n",
    "# sq_gen.crossover([0,0,0,0,0,0,0,0,0,0,0],[1,1,1,1,1,1,1,1,1,1])"
   ]
  },
  {
   "cell_type": "markdown",
   "metadata": {},
   "source": [
    "-----------\n",
    "Exercise 3\n",
    "-----------\n",
    "\n",
    "Define a function initial_population(problem_genetic,size), that creates an initial population of a given size, for an instance of the previous class Problem_Genetic\n",
    "\n",
    "HINT: Use random.choice\n"
   ]
  },
  {
   "cell_type": "code",
   "execution_count": 6,
   "metadata": {},
   "outputs": [],
   "source": [
    "def create_one_indiv(problem_genetic):\n",
    "    return [random.choice(problem_genetic.genes) for i in range(problem_genetic.individuals_length)]\n",
    "# comprehension list: [ elements for iterator]\n",
    "\n",
    "#create_one_indiv(sq_gen)\n",
    "\n",
    "def initial_population(problem_genetic,size):\n",
    "    sol = []\n",
    "    for i in range(size):\n",
    "        #sol = sol + create_one_indiv(problem_genetic)\n",
    "        sol.append(create_one_indiv(problem_genetic))\n",
    "    return sol\n",
    "\n",
    "def initial_population2(problem_genetic,size):\n",
    "    return [ create_one_indiv(problem_genetic) for i in range(size)]"
   ]
  },
  {
   "cell_type": "markdown",
   "metadata": {},
   "source": [
    "-----------\n",
    "Exercise 4\n",
    "-----------\n",
    "\n",
    "Define a function crossover_parents(problem_genetic,parents), that receives an instance of Problem_Genetic and a population of parents, and returns the new population obtained by performing the crossover operation pairwise (parents are coupled as they appear on the list).\n"
   ]
  },
  {
   "cell_type": "code",
   "execution_count": 7,
   "metadata": {},
   "outputs": [],
   "source": [
    "# We will need the math module\n",
    "import math"
   ]
  },
  {
   "cell_type": "code",
   "execution_count": 8,
   "metadata": {},
   "outputs": [],
   "source": [
    "def crossover_parents(problem_genetic,parents):\n",
    "    sol = []\n",
    "    if (len(parents) % 2) == 1:\n",
    "        parents.append(create_one_indiv(problem_genetic))\n",
    "    for i in range(0,len(parents),2):\n",
    "        #sol = sol + problem_genetic.crossover(parents[i],parents[i+1])\n",
    "        sol.extend(problem_genetic.crossover(parents[i],parents[i+1]))\n",
    "    return sol\n",
    "\n",
    "# crossover_parents(sq_gen,[[0,0,0,0,0,0,0,0,0,0,0],[1,1,1,1,1,1,1,1,1,1],[0,0,0,0,0,0,0,0,0,0,0],[1,1,1,1,1,1,1,1,1,1]])"
   ]
  },
  {
   "cell_type": "markdown",
   "metadata": {},
   "source": [
    "-----------\n",
    "Exercise 5\n",
    "-----------\n",
    "\n",
    "Define a function mutate_individuals(problem_genetic, population, prob), that given an instance of Problem_Genetic, a population and a probability of mutation, returns the population obtained after applying (with probability p) mutations over the genes of the individuals of the population.\n"
   ]
  },
  {
   "cell_type": "code",
   "execution_count": 9,
   "metadata": {},
   "outputs": [],
   "source": [
    "def mutate_individuals(problem_genetic, population, prob):\n",
    "    # [ mutants for indiv in population]\n",
    "    return [problem_genetic.mutation(indiv,prob) for indiv in population]\n",
    "\n",
    "# mutate_individuals(sq_gen,[[0,0,0,0,0,0,0,0,0,0,0],[1,1,1,1,1,1,1,1,1,1]],0.8)"
   ]
  },
  {
   "cell_type": "markdown",
   "metadata": {},
   "source": [
    "-----------\n",
    "Exercise 6\n",
    "-----------\n",
    "\n",
    "Define a function tournament_selection(problem_genetic,population,n,k,opt) that implements the selection by tournament of n individuals of a population.  The function receives as input: an instance of Problem_Genetic, a population, a natural number n (number of individuals to be selected), a natural number k (number of participants in the tournament), and a function opt that can be either function max or function min (indicating if it is a maximization or a minimization problem).\n",
    "\n",
    "HINT: Use random.sample \n"
   ]
  },
  {
   "cell_type": "code",
   "execution_count": 10,
   "metadata": {},
   "outputs": [],
   "source": [
    "def tournament_selection(problem_genetic,population,n,k,opt):\n",
    "    return \"REPEAT n TIMES SELECT-ONE\"\n",
    "\n",
    "def select_one_tournament(problem_genetic,population,k,opt):\n",
    "    chosen = random.sample(population,k)\n",
    "    return opt(chosen, key=problem_genetic.fitness)\n",
    "#BEST-AMONG-CHOSEN\n",
    "# max(chosen)   =>  actually, opt(chosen) because it works for opt=max and opt=min\n",
    "           \n",
    "def tournament_selection(problem_genetic,population,n,k,opt):\n",
    "    return [ select_one_tournament(problem_genetic,population,k,opt) for _ in range(n)] "
   ]
  },
  {
   "cell_type": "markdown",
   "metadata": {},
   "source": [
    "# AUTHORS FROM NOW ON:\n",
    "## XXX (it was a group project, name censored for privacy)\n",
    "## Julián Gómez Rodríguez"
   ]
  },
  {
   "cell_type": "markdown",
   "metadata": {},
   "source": [
    "-----------\n",
    "Exercise 7\n",
    "-----------\n",
    "\n",
    "Using the previous auxiliary functions, define a function new_generation_t for computing a new generation from a given one, as described in the slide 17 of unit 5 (the genetic algorithm that uses tornement selection).\n",
    "\n",
    "\n",
    "We will assume the following seven input arguments: \n",
    "\n",
    "new_generation_t(problem_genetic,k,opt,population,\n",
    "                 n_parents,n_direct,prob_mutate)\n",
    "\n",
    "where:\n",
    "\n",
    "* problem_genetic: an instance of the class Problem_Genetic, with\n",
    "    the optimization problem that we want to solve.\n",
    "* k: number of participants in the selection tournaments.\n",
    "* opt: max or min, indicating if it is a maximization or a minimization problem.\n",
    "* population:the current generation\n",
    "* n_parents: the number of parents \n",
    "* n_direct: the number of individuals taken directly for the next generation \n",
    "* prob_mutate: probability that a gene mutation will take place.\n",
    "\n",
    "NOTE: we will assume that n_parents+n_direct is equal to the size of the\n",
    "population. These numbers n_parents and n_direct will be computed in the\n",
    "function of the next exercise, that uses new_generation_t.\n"
   ]
  },
  {
   "cell_type": "code",
   "execution_count": 11,
   "metadata": {},
   "outputs": [],
   "source": [
    "def new_generation_t(problem_genetic,k,opt,population, n_parents,n_direct,prob_mutate):\n",
    "    \n",
    "    parents = tournament_selection(problem_genetic,population,n_parents,k,opt)\n",
    "    directs = tournament_selection(problem_genetic,population,n_direct,k,opt)\n",
    "    crossed_parents = crossover_parents(problem_genetic,parents)\n",
    "    child_with_mutations = mutate_individuals(problem_genetic, crossed_parents, prob_mutate)   \n",
    "    new_gen = child_with_mutations + directs\n",
    "       \n",
    "    return new_gen"
   ]
  },
  {
   "cell_type": "markdown",
   "metadata": {},
   "source": [
    "# \n",
    "Exercise 8\n",
    "-----------\n",
    "\n",
    "Implement the genetic algorithm described in slide 17 of unit 5. That is,\n",
    "define a function:  \n",
    "\n",
    "genetic_algorithm_t(problem_genetic,k,opt,ngen,size,\n",
    "                     ratio_cross,prob_mutate)\n",
    "\n",
    "where the input arguments are:\n",
    "\n",
    "* problem_genetic: an instance of the class Problem_Genetic, with\n",
    "    the optimization problem that we want to solve.\n",
    "* k: number of participants on the selection tournaments.\n",
    "* opt: max or min, indicating if it is a maximization or a\n",
    "    minimization problem.\n",
    "* ngen: number of generations (halting condition)\n",
    "* size: number of individuals for each generation\n",
    "* ratio_cross: portion of the population which will be obtained by\n",
    "    means of crossovers. \n",
    "* prob_mutate: probability that a gene mutation will take place.\n",
    "\n",
    "The function genetic_algorithm_t should return the phenotype of the best\n",
    "individual in the las generation computed, along with its fitness. \n",
    "\n",
    "After defining it, run the previous genetic algorithm to solve the\n",
    "sq_gen problem (both in its minimization and maximization variants).\n"
   ]
  },
  {
   "cell_type": "code",
   "execution_count": 12,
   "metadata": {},
   "outputs": [],
   "source": [
    "def genetic_algorithm_t(problem_genetic,k,opt,ngen,size, ratio_cross,prob_mutate, is_the_example):   \n",
    "    n_parents = round(size * ratio_cross)\n",
    "    n_directs = size - n_parents   \n",
    "    population = initial_population(problem_genetic,size)\n",
    "    i = 0\n",
    "    \n",
    "    while i <= ngen:                \n",
    "        population = new_generation_t(problem_genetic,k,opt,population, n_parents,n_directs,prob_mutate)\n",
    "        i = i + 1\n",
    "        \n",
    "    best = tournament_selection(problem_genetic,population,1, size,opt)\n",
    "    \n",
    "    #This part is for a more clear printing\n",
    "    \n",
    "    if is_the_example == True:\n",
    "        \n",
    "        a = 'best:' + str(best[0])\n",
    "        b = 'decode:' + str(problem_genetic.decode(best[0]))\n",
    "        c = 'fitness:' + str(problem_genetic.fitness(best[0]))\n",
    "    \n",
    "        return print(a, b, c)\n",
    "    \n",
    "    else:\n",
    "        a = 'best:' + str(best[0])    \n",
    "        b = 'value:' + str(problem_genetic.fitness(best[0]))\n",
    "    \n",
    "        return print(a, b)"
   ]
  },
  {
   "cell_type": "markdown",
   "metadata": {},
   "source": [
    "# THE EXECUTION OF THE ALGORITHM"
   ]
  },
  {
   "cell_type": "code",
   "execution_count": 16,
   "metadata": {},
   "outputs": [
    {
     "name": "stdout",
     "output_type": "stream",
     "text": [
      "best:[0, 0, 0, 0, 0, 0, 0, 0, 0, 0] decode:0 fitness:0\n",
      "best:[1, 1, 1, 1, 1, 1, 1, 1, 1, 1] decode:1023 fitness:1046529\n"
     ]
    }
   ],
   "source": [
    "#%%timeit -n 10\n",
    "sq_gen = Problem_Genetic([0,1],10,binary_to_decimal,fitness_for_sq_gen)\n",
    "\n",
    "k = 3\n",
    "opt = min\n",
    "ngen = 20\n",
    "size = 10\n",
    "ratio_cross = 0.7\n",
    "prob_mutate = 0.1\n",
    "\n",
    "genetic_algorithm_t(sq_gen,k,opt,ngen,size,ratio_cross,prob_mutate, True)\n",
    "\n",
    "\n",
    "sq_gen2 = Problem_Genetic([0,1],10,binary_to_decimal,fitness_for_sq_gen)\n",
    "\n",
    "k2 = 3\n",
    "opt2 = max\n",
    "ngen2 = 20\n",
    "size2 = 10\n",
    "ratio_cross2 = 0.7\n",
    "prob_mutate2 = 0.1\n",
    "\n",
    "genetic_algorithm_t(sq_gen2,k2,opt2,ngen2,size2,ratio_cross2,prob_mutate2, True)\n",
    "\n",
    "# For example:\n",
    "\n",
    "# >>> genetic_algorithm_t(sq_gen,3,min,20,10,0.7,0.1)\n",
    "# (0, 0)\n",
    "# >>> genetic_algorithm_t(sq_gen,3,max,20,10,0.7,0.1)\n",
    "# (1023, 1046529)"
   ]
  },
  {
   "cell_type": "markdown",
   "metadata": {},
   "source": [
    "Part II: Representation of the Knapsack problem\n",
    "================================================\n",
    "\n",
    "\n",
    "The Knapsack problem can be stated as follows: given n objects of\n",
    "weights w_i and value v_i (i=1,...,n), select which objects should\n",
    "be carried in a knapsack having a maximum weight P, in such a way\n",
    "that the value of the selected objects is maximum.\n",
    "\n",
    "We will use the following representation:\n",
    "GENES: [0,1]\n",
    "INDIVIDUALS-LENGTH: N\n",
    "DECODE(X): we read the chromosome from left to right, a 1 at\n",
    "   position i means that the i-th object is selected, with the\n",
    "   following exception:\n",
    "   If by selecting the object we go beyond the max weight, then this\n",
    "   object is not selected (and neither is none of the remaining).\n",
    "F-OBJECTIVE(X): sum of the values of the selected objects\n",
    "   (note that no penalty is required because of our decode function)\n",
    "\n"
   ]
  },
  {
   "cell_type": "markdown",
   "metadata": {},
   "source": [
    "-----------\n",
    "Exercise 9\n",
    "-----------\n",
    "\n",
    "Define a function \n",
    "decode_knapsack(chromosome, n_objects, weights, capacity)\n",
    "that receives as input:\n",
    "\n",
    "- a chromosome (i.e. a list of 0s and 1s, of length equal to\n",
    "    n_objects) \n",
    "- n_objects: total number of available objects\n",
    "- weights: a list with the weight of each object\n",
    "- capacity: maximum weight of the knapsack.\n",
    "\n",
    "The output of this function is a list of 0s and 1s representing the\n",
    "set of selected objects (the i-th object is selected if and only if\n",
    "there is a 1 at position i). This list is obtained from the\n",
    "chromosome, filtering the objects that are discarded according to\n",
    "the DECODE description.\n"
   ]
  },
  {
   "cell_type": "code",
   "execution_count": 17,
   "metadata": {},
   "outputs": [],
   "source": [
    "def decode_knapsack(chromosome):\n",
    "    i = 0\n",
    "    total = 0    \n",
    "    for i in range(0,n_objects_glob):\n",
    "        if chromosome[i] == 1:\n",
    "                       \n",
    "            total = total + weights_glob[i]\n",
    "            if total > capacity_glob:\n",
    "                chromosome[i] = 0  \n",
    "            \n",
    "    return chromosome"
   ]
  },
  {
   "cell_type": "markdown",
   "metadata": {},
   "source": [
    "-----------\n",
    "Exercise 10\n",
    "-----------\n",
    "\n",
    "Define a function \n",
    "\n",
    "fitness_knapsack(chromosome, n_objects, weights, capacity, values)\n",
    "\n",
    "that calculates the total value of the objects carried out inside the knapsack\n",
    "represented by the chromosome, according to the codification\n",
    "explained in the previous exercise.\n",
    "The function receives as input the same arguments as the previous\n",
    "function, together with 'values', which is a list with the value of\n",
    "each object.\n"
   ]
  },
  {
   "cell_type": "code",
   "execution_count": 18,
   "metadata": {},
   "outputs": [],
   "source": [
    "def fitness_knapsack(chromosome):\n",
    "           \n",
    "    sum_values=0\n",
    "    sum_weights=0\n",
    "    penalty = 0\n",
    "    \n",
    "    i = 0\n",
    "    \n",
    "    while i <  len(chromosome):\n",
    "        if chromosome[i] == 1:\n",
    "            sum_values = sum_values + values_glob[i]\n",
    "            sum_weights = sum_weights + weights_glob[i]\n",
    "            \n",
    "        i = i + 1\n",
    "    \n",
    "    if sum_weights > capacity_glob:       \n",
    "        penalty = -9999999999999999999\n",
    "   \n",
    "    return sum_values + penalty"
   ]
  },
  {
   "cell_type": "markdown",
   "metadata": {},
   "source": [
    "Part III: Solving instances of the  Knapsack problem\n",
    "=============================\n",
    "\n",
    "\n",
    "Below you can find three particular instances of the Knapsack\n",
    "problem. Their corresponding optimal solutions are also given, in\n",
    "order to compare them against the results obtained by the genetic\n",
    "algorithm:\n"
   ]
  },
  {
   "cell_type": "markdown",
   "metadata": {},
   "source": [
    "Exercise 11\n",
    "-----------\n",
    "\n",
    "Define variables k1g, k2g and k3g, containing the instances of\n",
    "Problem_Genetic corresponding, respectively, to the previous three\n",
    "instances of the knapsack problem.\n",
    "\n",
    "Use the genetic algorithm to solve these problems."
   ]
  },
  {
   "cell_type": "code",
   "execution_count": 19,
   "metadata": {},
   "outputs": [
    {
     "name": "stdout",
     "output_type": "stream",
     "text": [
      "best:[1, 1, 0, 1, 0, 0, 1, 0, 0, 0] value:284\n"
     ]
    }
   ],
   "source": [
    "#%%timeit -n 10\n",
    "# Knapsack problem 1:\n",
    "# 10 objects, maximum weight 165\n",
    "weights1 = [23,31,29,44,53,38,63,85,89,82]\n",
    "values1 = [92,57,49,68,60,43,67,84,87,72]\n",
    "\n",
    "# Optimal solution= [1,1,1,1,0,1,0,0,0,0], value= 309\n",
    "\n",
    "# >>> genetic_algorithm_t(k1g,3,max,100,50,0.8,0.05)\n",
    "# ([1, 1, 1, 1, 0, 1, 0, 0, 0, 0], 309)\n",
    "\n",
    "# _______________________________________________________\n",
    "\n",
    "\n",
    "\n",
    "weights_glob = [23,31,29,44,53,38,63,85,89,82]\n",
    "values_glob = [92,57,49,68,60,43,67,84,87,72]\n",
    "capacity_glob = 165\n",
    "n_objects_glob = len(values_glob)\n",
    "k = 3\n",
    "opt = max\n",
    "ngen = 100\n",
    "size = 50\n",
    "ratio_cross = 0.8\n",
    "prob_mutate = 0.05\n",
    "\n",
    "k1g = Problem_Genetic([0,1],n_objects_glob,decode_knapsack,fitness_knapsack)\n",
    "\n",
    "genetic_algorithm_t(k1g,k,opt,ngen,size,ratio_cross,prob_mutate, False)"
   ]
  },
  {
   "cell_type": "code",
   "execution_count": 20,
   "metadata": {},
   "outputs": [
    {
     "name": "stdout",
     "output_type": "stream",
     "text": [
      "best:[0, 1, 1, 1, 1, 0, 1, 0, 0, 0, 1, 0, 0, 1, 1] value:1446\n"
     ]
    }
   ],
   "source": [
    "#%%timeit -n 10\n",
    "# Knapsack problem 2:\n",
    "# 15 objects, maximum weight 750\n",
    "\n",
    "weights2 = [70,73,77,80,82,87,90,94,98,106,110,113,115,118,120]\n",
    "values2 = [135,139,149,150,156,163,173,184,192,201,210,214,221,229,240]\n",
    "\n",
    "# Optimal solution= [1,0,1,0,1,0,1,1,1,0,0,0,0,1,1], value= 1458\n",
    "\n",
    "# >>> genetic_algorithm_t(k2g,3,max,100,50,0.8,0.05)\n",
    "# ([1, 1, 1, 0, 0, 0, 0, 1, 1, 0, 1, 1, 1, 0, 0], 1444)\n",
    "\n",
    "# >>> genetic_algorithm_t(k2g,3,max,200,100,0.8,0.05)\n",
    "# ([0, 0, 1, 0, 1, 1, 1, 1, 1, 1, 0, 0, 1, 0, 0], 1439)\n",
    "\n",
    "# >>> genetic_algorithm_t(k2g,3,max,200,100,0.8,0.05)\n",
    "# ([1, 0, 1, 0, 1, 0, 1, 1, 1, 0, 0, 0, 0, 1, 1], 1458)\n",
    "\n",
    "# _______________________________________________________\n",
    "\n",
    "\n",
    "weights_glob = [70,73,77,80,82,87,90,94,98,106,110,113,115,118,120]\n",
    "values_glob = [135,139,149,150,156,163,173,184,192,201,210,214,221,229,240]\n",
    "capacity_glob = 750\n",
    "n_objects_glob = len(values_glob)\n",
    "k = 3\n",
    "opt = max\n",
    "\n",
    "k2g = Problem_Genetic([0,1],n_objects_glob,decode_knapsack,fitness_knapsack)\n",
    "\n",
    "ngen = 100\n",
    "size = 50\n",
    "#genetic_algorithm_t(k2g,k,opt,ngen,size,ratio_cross,prob_mutate, False)\n",
    "\n",
    "ngen = 200\n",
    "size = 100\n",
    "genetic_algorithm_t(k2g,k,opt,ngen,size,ratio_cross,prob_mutate, False)\n",
    "#genetic_algorithm_t(k2g,k,opt,ngen,size,ratio_cross,prob_mutate, False)"
   ]
  },
  {
   "cell_type": "code",
   "execution_count": 21,
   "metadata": {},
   "outputs": [
    {
     "name": "stdout",
     "output_type": "stream",
     "text": [
      "best:[1, 1, 0, 1, 1, 1, 0, 0, 0, 1, 1, 0, 1, 0, 0, 1, 0, 0, 0, 0, 0, 1, 1, 1] value:13549094\n"
     ]
    }
   ],
   "source": [
    "#%%timeit -n 10\n",
    "# Knapsack problem 3:\n",
    "# 24 objects, maximum weight 6404180\n",
    "weights3 = [382745,799601,909247,729069,467902, 44328,\n",
    "       34610,698150,823460,903959,853665,551830,610856,\n",
    "       670702,488960,951111,323046,446298,931161, 31385,496951,264724,224916,169684]\n",
    "values3 = [825594,1677009,1676628,1523970, 943972,  97426,\n",
    "       69666,1296457,1679693,1902996,\n",
    "       1844992,1049289,1252836,1319836, 953277,2067538, 675367,\n",
    "       853655,1826027, 65731, 901489, 577243, 466257, 369261]\n",
    "\n",
    "# Optimal solution= [1,1,0,1,1,1,0,0,0,1,1,0,1,0,0,1,0,0,0,0,0,1,1,1], value= 13549094\n",
    "\n",
    "# >>> genetic_algorithm_t(k3g,5,max,400,200,0.75,0.1)\n",
    "# ([1, 1, 0, 1, 0, 1, 1, 0, 1, 1, 1, 0, 1, 0, 0, 1, 0, 0, 0, 0, 0, 1, 0, 0], 13518963)\n",
    "# >>> genetic_algorithm_t(k3g,4,max,600,200,0.75,0.1)\n",
    "# ([1, 1, 0, 1, 1, 1, 1, 0, 0, 1, 1, 0, 1, 0, 0, 1, 1, 0, 0, 1, 0, 1, 0, 0], 13524340)\n",
    "# >>> genetic_algorithm_t(k3g,4,max,1000,200,0.75,0.1)\n",
    "# ([1, 1, 0, 1, 0, 0, 0, 0, 1, 1, 1, 0, 1, 0, 0, 1, 1, 0, 0, 0, 0, 0, 0, 0], 13449995)\n",
    "# >>> genetic_algorithm_t(k3g,3,max,1000,100,0.75,0.1)\n",
    "# ([1, 1, 0, 0, 0, 1, 1, 0, 1, 1, 1, 0, 1, 1, 0, 1, 1, 0, 0, 0, 0, 0, 0, 0], 13412953)\n",
    "# >>> genetic_algorithm_t(k3g,3,max,2000,100,0.75,0.1)\n",
    "# ([0, 1, 0, 1, 0, 1, 0, 0, 1, 1, 1, 0, 1, 1, 0, 1, 0, 0, 0, 0, 0, 0, 0, 0], 13366296)\n",
    "# >>> genetic_algorithm_t(k3g,6,max,2000,100,0.75,0.1)\n",
    "# ([1, 1, 0, 1, 1, 1, 0, 0, 0, 1, 1, 0, 1, 0, 0, 1, 0, 0, 0, 0, 0, 1, 1, 1], 13549094)\n",
    "\n",
    "# _______________________________________________________\n",
    "\n",
    "\n",
    "weights_glob = [382745,799601,909247,729069,467902, 44328,\n",
    "       34610,698150,823460,903959,853665,551830,610856,\n",
    "       670702,488960,951111,323046,446298,931161, 31385,496951,264724,224916,169684]\n",
    "values_glob = [825594,1677009,1676628,1523970, 943972,  97426,\n",
    "       69666,1296457,1679693,1902996,\n",
    "       1844992,1049289,1252836,1319836, 953277,2067538, 675367,\n",
    "       853655,1826027, 65731, 901489, 577243, 466257, 369261]\n",
    "capacity_glob = 6404180\n",
    "n_objects_glob = len(values_glob)\n",
    "opt = max\n",
    "ratio_cross = 0.75\n",
    "prob_mutate = 0.1\n",
    "\n",
    "k3g = Problem_Genetic([0,1],n_objects_glob,decode_knapsack,fitness_knapsack)\n",
    "\n",
    "k = 5\n",
    "ngen = 400\n",
    "size = 200\n",
    "genetic_algorithm_t(k3g,k,opt,ngen,size,ratio_cross,prob_mutate, False)\n",
    "\n",
    "k = 4\n",
    "ngen = 600\n",
    "size = 200\n",
    "#commented because it takes too long\n",
    "#genetic_algorithm_t(k3g,k,opt,ngen,size,ratio_cross,prob_mutate, False)\n",
    "\n",
    "k = 4\n",
    "ngen = 1000\n",
    "size = 200\n",
    "#genetic_algorithm_t(k3g,k,opt,ngen,size,ratio_cross,prob_mutate, False)\n",
    "\n",
    "k = 3\n",
    "ngen = 1000\n",
    "size = 100\n",
    "#genetic_algorithm_t(k3g,k,opt,ngen,size,ratio_cross,prob_mutate, False)\n",
    "\n",
    "k = 3\n",
    "ngen = 2000\n",
    "size = 100\n",
    "#genetic_algorithm_t(k3g,k,opt,ngen,size,ratio_cross,prob_mutate, False)\n",
    "\n",
    "k = 6\n",
    "ngen = 2000\n",
    "size = 100\n",
    "#genetic_algorithm_t(k3g,k,opt,ngen,size,ratio_cross,prob_mutate, False)"
   ]
  },
  {
   "cell_type": "markdown",
   "metadata": {},
   "source": [
    "# CUSTOM INSTANCE 1"
   ]
  },
  {
   "cell_type": "code",
   "execution_count": 22,
   "metadata": {},
   "outputs": [
    {
     "name": "stdout",
     "output_type": "stream",
     "text": [
      "best:[1, 1, 1, 1, 1, 1, 1, 1, 1, 1, 1, 1, 1, 0, 1, 0, 1, 0, 1, 1] value:1024\n"
     ]
    }
   ],
   "source": [
    "#%%timeit -n 10\n",
    "#f2_l-d_kp_20_878.txt\n",
    "\n",
    "\n",
    "\n",
    "values_glob =  [44, 46, 90, 72, 91, 40, 75, 35, 8, 54, 78, 40, 77, 15, 61, 17, 75, 29, 75, 63]\n",
    "weights_glob = [92, 4, 43, 83, 84, 68, 92, 82, 6, 44, 32, 18, 56, 83, 25, 96, 70, 48, 14, 58]\n",
    "\n",
    "\n",
    "capacity_glob = 878\n",
    "n_objects_glob = len(values_glob)\n",
    "\n",
    "k = 3\n",
    "ngen = 500\n",
    "size = 100\n",
    "opt = max\n",
    "ratio_cross = 0.8\n",
    "prob_mutate = 0.1\n",
    "\n",
    "kg = Problem_Genetic([0,1],n_objects_glob,decode_knapsack,fitness_knapsack)\n",
    "\n",
    "genetic_algorithm_t(kg,k,opt,ngen,size,ratio_cross,prob_mutate, False)\n",
    "\n",
    "#optimum: 1024"
   ]
  },
  {
   "cell_type": "markdown",
   "metadata": {},
   "source": [
    "# CUSTOM INSTANCE 2"
   ]
  },
  {
   "cell_type": "code",
   "execution_count": 23,
   "metadata": {},
   "outputs": [
    {
     "name": "stdout",
     "output_type": "stream",
     "text": [
      "best:[1, 1, 1, 1, 1, 1, 0, 1, 0, 1, 1, 0, 0, 0, 0, 1, 1, 0, 0, 0, 0, 0, 0] value:9765\n"
     ]
    }
   ],
   "source": [
    "#%%timeit -n 10\n",
    "#f8_l-d_kp_23_10000\n",
    "\n",
    "values_glob =  [981, 980, 979, 978, 977, 976, 487, 974, 970, 485, 485, 970, 970, 484, 484, 976, 974, 482, 962, 961, 959, 958, 857]\n",
    "weights_glob = [983, 982, 981, 980, 979, 978, 488, 976, 972, 486, 486, 972, 972, 485, 485, 969, 966, 483, 964, 963, 961, 958, 959]\n",
    "\n",
    "capacity_glob = 10000\n",
    "n_objects_glob = len(values_glob)\n",
    "\n",
    "k = 3\n",
    "ngen = 500\n",
    "size = 100\n",
    "opt = max\n",
    "ratio_cross = 0.8\n",
    "prob_mutate = 0.1\n",
    "\n",
    "kg = Problem_Genetic([0,1],n_objects_glob,decode_knapsack,fitness_knapsack)\n",
    "\n",
    "genetic_algorithm_t(kg,k,opt,ngen,size,ratio_cross,prob_mutate, False)\n",
    "\n",
    "#optimum: 9767"
   ]
  },
  {
   "cell_type": "markdown",
   "metadata": {},
   "source": [
    "\n",
    "# CUSTOM INSTANCE 3"
   ]
  },
  {
   "cell_type": "code",
   "execution_count": 24,
   "metadata": {},
   "outputs": [
    {
     "name": "stdout",
     "output_type": "stream",
     "text": [
      "best:[1, 1, 1, 1, 1, 1, 1, 1, 1, 0, 1, 1, 1, 1, 0, 1, 0, 1, 1, 1] value:1025\n"
     ]
    }
   ],
   "source": [
    "#%%timeit -n 10\n",
    "#f10_l-d_kp_20_879\n",
    "\n",
    "values_glob =  [91, 72, 90, 46, 55, 8, 35, 75, 61, 15, 77, 40, 63, 75, 29, 75, 17, 78, 40, 44]\n",
    "weights_glob = [84, 83, 43, 4, 44, 6, 82, 92, 25, 83, 56, 18, 58, 14, 48, 70, 96, 32, 68, 92]\n",
    "\n",
    "capacity_glob = 879\n",
    "n_objects_glob = len(values_glob)\n",
    "\n",
    "k = 3\n",
    "ngen = 500\n",
    "size = 100\n",
    "opt = max\n",
    "ratio_cross = 0.8\n",
    "prob_mutate = 0.1\n",
    "\n",
    "kg = Problem_Genetic([0,1],n_objects_glob,decode_knapsack,fitness_knapsack)\n",
    "\n",
    "genetic_algorithm_t(kg,k,opt,ngen,size,ratio_cross,prob_mutate, False)\n",
    "\n",
    "#optimum: 1025"
   ]
  },
  {
   "cell_type": "markdown",
   "metadata": {},
   "source": [
    "# CUSTOM INSTANCE 4"
   ]
  },
  {
   "cell_type": "code",
   "execution_count": 26,
   "metadata": {},
   "outputs": [
    {
     "name": "stdout",
     "output_type": "stream",
     "text": [
      "best:[1, 0, 1, 1, 0, 1, 1, 1, 1, 1, 1, 1, 0, 1, 1, 1, 1, 1, 1, 1, 1, 1, 1, 0, 1, 1, 1, 1, 1, 0, 0, 1, 1, 1, 1, 1, 0, 1, 1, 1, 1, 1, 1, 1, 1, 1, 1, 1, 1, 1, 0, 1, 1, 1, 1, 1, 1, 1, 0, 1, 1, 1, 1, 0, 0, 1, 1, 0, 1, 1, 1, 1, 1, 1, 0, 1, 0, 1, 1, 1, 1, 1, 1, 1, 1, 0, 0, 1, 1, 1, 1, 1, 1, 1, 1, 1, 0, 1, 0, 1] value:-9999999999999944773\n"
     ]
    }
   ],
   "source": [
    "#%%timeit -n 10\n",
    "#f10_l-d_kp_20_879\n",
    "\n",
    "values_glob = [585, 194, 426, 606, 348, 516, 521, 1092, 422, 749, 895, 337, 143, 557, 945, 915, 1055, 546, 352, 522, 109, 891, 1001, 459, 222, 767, 194, 698, 838, 107, 674, 644, 815, 434, 982, 866, 467, 1094, 1084, 993, 399, 733, 533, 231, 782, 528, 172, 800, 974, 717, 238, 974, 956, 820, 245, 519, 1095, 894, 629, 296, 299, 1097, 377, 216, 197, 1008, 819, 639, 342, 807, 207, 669, 222, 637, 170, 1031, 198, 826, 700, 587, 745, 872, 367, 613, 1072, 181, 995, 1043, 313, 158, 848, 403, 587, 864, 1023, 636, 129, 824, 774, 889]\n",
    "weights_glob = [485, 94, 326, 506, 248, 416, 421, 992, 322, 649, 795, 237, 43, 457, 845, 815, 955, 446, 252, 422, 9, 791, 901, 359, 122, 667, 94, 598, 738, 7, 574, 544, 715, 334, 882, 766, 367, 994, 984, 893, 299, 633, 433, 131, 682, 428, 72, 700, 874, 617, 138, 874, 856, 720, 145, 419, 995, 794, 529, 196, 199, 997, 277, 116, 97, 908, 719, 539, 242, 707, 107, 569, 122, 537, 70, 931, 98, 726, 600, 487, 645, 772, 267, 513, 972, 81, 895, 943, 213, 58, 748, 303, 487, 764, 923, 536, 29, 724, 674, 789]\n",
    "\n",
    "\n",
    "\n",
    "capacity_glob = 1000\n",
    "n_objects_glob = len(values_glob)\n",
    "\n",
    "k = 3\n",
    "ngen = 500\n",
    "size = 100\n",
    "opt = max\n",
    "ratio_cross = 0.8\n",
    "prob_mutate = 0.1\n",
    "\n",
    "kg = Problem_Genetic([0,1],n_objects_glob,decode_knapsack,fitness_knapsack)\n",
    "\n",
    "genetic_algorithm_t(kg,k,opt,ngen,size,ratio_cross,prob_mutate, False)\n",
    "\n",
    "#optimum: 2397\n",
    "    "
   ]
  },
  {
   "cell_type": "code",
   "execution_count": null,
   "metadata": {},
   "outputs": [],
   "source": []
  }
 ],
 "metadata": {
  "interpreter": {
   "hash": "9e4f16ec589e34962c414a2ae7e58925e2968c2c95667291972d676c0f98c3e6"
  },
  "kernelspec": {
   "display_name": "Python 3",
   "language": "python",
   "name": "python3"
  },
  "language_info": {
   "codemirror_mode": {
    "name": "ipython",
    "version": 3
   },
   "file_extension": ".py",
   "mimetype": "text/x-python",
   "name": "python",
   "nbconvert_exporter": "python",
   "pygments_lexer": "ipython3",
   "version": "3.9.5"
  }
 },
 "nbformat": 4,
 "nbformat_minor": 2
}